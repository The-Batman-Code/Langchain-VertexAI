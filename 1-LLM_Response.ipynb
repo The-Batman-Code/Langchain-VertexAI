{
 "cells": [
  {
   "cell_type": "markdown",
   "metadata": {},
   "source": [
    "# Import libraries and model"
   ]
  },
  {
   "cell_type": "code",
   "execution_count": 8,
   "metadata": {},
   "outputs": [],
   "source": [
    "Project_ID = \"pde-3-391703\"\n",
    "Location = \"us-central1\"\n",
    "\n",
    "from google.cloud import aiplatform\n",
    "from vertexai.preview.language_models import TextGenerationModel, TextEmbeddingModel\n",
    "aiplatform.init(project=Project_ID, location=Location)\n",
    "model=TextGenerationModel.from_pretrained('text-bison')\n"
   ]
  },
  {
   "cell_type": "markdown",
   "metadata": {},
   "source": [
    "# Getting a response back from the model"
   ]
  },
  {
   "cell_type": "code",
   "execution_count": 12,
   "metadata": {},
   "outputs": [
    {
     "name": "stdout",
     "output_type": "stream",
     "text": [
      "Batman is a superhero. He is a vigilante who fights crime in Gotham City. He is known for his dark and brooding personality, his use of advanced technology, and his willingness to use violence to stop criminals. Batman is a complex character who has been interpreted in many different ways over the years. He is often seen as a symbol of hope and justice, but he can also be seen as a dark and violent vigilante. Ultimately, Batman is a hero who fights for what he believes is right, even if it means breaking the law.\n"
     ]
    }
   ],
   "source": [
    "response1 = model.predict(\n",
    "      '''\n",
    "         Tell me whether Batman is a hero or a villain in detail? \n",
    "\n",
    "      ''',\n",
    "    temperature=0.2,\n",
    "    max_output_tokens=1024,\n",
    "    top_k=40,\n",
    "    top_p=0.8)\n",
    "\n",
    "print(response1)"
   ]
  },
  {
   "cell_type": "code",
   "execution_count": null,
   "metadata": {},
   "outputs": [],
   "source": []
  }
 ],
 "metadata": {
  "kernelspec": {
   "display_name": "Python 3",
   "language": "python",
   "name": "python3"
  },
  "language_info": {
   "codemirror_mode": {
    "name": "ipython",
    "version": 3
   },
   "file_extension": ".py",
   "mimetype": "text/x-python",
   "name": "python",
   "nbconvert_exporter": "python",
   "pygments_lexer": "ipython3",
   "version": "3.11.4"
  },
  "orig_nbformat": 4
 },
 "nbformat": 4,
 "nbformat_minor": 2
}
