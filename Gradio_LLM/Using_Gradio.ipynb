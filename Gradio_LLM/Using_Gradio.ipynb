{
 "cells": [
  {
   "cell_type": "code",
   "execution_count": 1,
   "metadata": {},
   "outputs": [],
   "source": [
    "Project_ID = \"Enter your google cloud project ID here\"\n",
    "Location = \"us-central1\"\n",
    "\n",
    "from google.cloud import aiplatform\n",
    "from vertexai.preview.language_models import TextGenerationModel, TextEmbeddingModel\n",
    "aiplatform.init(project=Project_ID, location=Location)\n",
    "model=TextGenerationModel.from_pretrained('text-bison')\n"
   ]
  },
  {
   "cell_type": "code",
   "execution_count": 2,
   "metadata": {},
   "outputs": [],
   "source": [
    "def predict_from_model(prompt:str):\n",
    "    example='''Extract all information as JSON:\n",
    "                  input: calculate interest and total amount paid on a Loan Principal of $32,000 over 10 years,\n",
    "                  with an interest rate of 5 % per annum.\n",
    "\n",
    "                  This quote is being prepared for the following customer details\n",
    "                  customer: John Doe\n",
    "                  Address: 52 west street, Columbus, Ohio, 43215\n",
    "                  Phone: 543-201-0100\n",
    "\n",
    "                  output: {\"customer\": \"John Doe\",\n",
    "                  \"Address\": \"52 west street\",\n",
    "                  \"City\": \"Columbus\"\n",
    "                  \"State\": \"Ohio\"\n",
    "                  \"Zip\":  \"43215\",\n",
    "                  \"Phone\": \"543-201-0100\",\n",
    "                  \"Loan Amount\": \"16000\",\n",
    "                  \"Total Amount to be paid\": \"$48000\"\n",
    "                  }\n",
    "            '''\n",
    "    response=model.predict(example + prompt,\n",
    "                        temperature=0,\n",
    "                        max_output_tokens=1000,\n",
    "                        top_k=1,\n",
    "                        top_p=0)\n",
    "    #print(f\"Response from Model: {response.text}\")\n",
    "    return response.text\n"
   ]
  },
  {
   "cell_type": "code",
   "execution_count": 3,
   "metadata": {},
   "outputs": [
    {
     "name": "stdout",
     "output_type": "stream",
     "text": [
      "json format \n",
      " {\"customer\": \"John R. Smith\",\n",
      " \"Address\": \"911 Elm Street\",\n",
      " \"City\": \"LA\",\n",
      " \"State\": \"CA\",\n",
      " \"Zip\": \"90506\",\n",
      " \"Phone\": \"714-201-0120\",\n",
      " \"Loan Amount\": \"10000\",\n",
      " \"Total Amount to be paid\": \"$15000\"\n",
      " }\n"
     ]
    }
   ],
   "source": [
    "json_resp = predict_from_model('''\n",
    "        input: calculate interest and total amount paid on a Loan Principal of $10,000 over 10 years,\n",
    "        with an interest rate of 5 % per annum.\n",
    "\n",
    "        This quote is being prepared for the following customer details\n",
    "        customer: John R. Smith\n",
    "        Address: 911 Elm Street, LA, CA, 90506\n",
    "        Phone: 714-201-0120\n",
    "\n",
    "        output:\n",
    "''')\n",
    "\n",
    "print(\"json format \\n\", json_resp)"
   ]
  },
  {
   "cell_type": "code",
   "execution_count": 4,
   "metadata": {},
   "outputs": [
    {
     "name": "stderr",
     "output_type": "stream",
     "text": [
      "c:\\Python\\Lib\\site-packages\\tqdm\\auto.py:21: TqdmWarning: IProgress not found. Please update jupyter and ipywidgets. See https://ipywidgets.readthedocs.io/en/stable/user_install.html\n",
      "  from .autonotebook import tqdm as notebook_tqdm\n",
      "C:\\Users\\mailt\\AppData\\Local\\Temp\\ipykernel_9604\\2174040495.py:12: GradioDeprecationWarning: Usage of gradio.inputs is deprecated, and will not be supported in the future, please import your component from gradio.components\n",
      "  inputs=[gr.inputs.Textbox(label=\"Question\")],\n",
      "C:\\Users\\mailt\\AppData\\Local\\Temp\\ipykernel_9604\\2174040495.py:12: GradioDeprecationWarning: `optional` parameter is deprecated, and it has no effect\n",
      "  inputs=[gr.inputs.Textbox(label=\"Question\")],\n",
      "C:\\Users\\mailt\\AppData\\Local\\Temp\\ipykernel_9604\\2174040495.py:12: GradioDeprecationWarning: `numeric` parameter is deprecated, and it has no effect\n",
      "  inputs=[gr.inputs.Textbox(label=\"Question\")],\n"
     ]
    },
    {
     "name": "stdout",
     "output_type": "stream",
     "text": [
      "Running on local URL:  http://127.0.0.1:7860\n",
      "\n",
      "Could not create share link. Please check your internet connection or our status page: https://status.gradio.app.\n"
     ]
    },
    {
     "data": {
      "text/html": [
       "<div><iframe src=\"http://127.0.0.1:7860/\" width=\"100%\" height=\"500\" allow=\"autoplay; camera; microphone; clipboard-read; clipboard-write;\" frameborder=\"0\" allowfullscreen></iframe></div>"
      ],
      "text/plain": [
       "<IPython.core.display.HTML object>"
      ]
     },
     "metadata": {},
     "output_type": "display_data"
    },
    {
     "data": {
      "text/plain": []
     },
     "execution_count": 4,
     "metadata": {},
     "output_type": "execute_result"
    }
   ],
   "source": [
    "import gradio as gr\n",
    "\n",
    "def qa_interface(question):\n",
    "\n",
    "    QUESTION= question\n",
    "    PROMPT = \"Extract all information as JSON. Input:\" + QUESTION + \"output:\"\n",
    "\n",
    "    json_op=predict_from_model(PROMPT)\n",
    "    return json_op\n",
    "\n",
    "iface=gr.Interface(fn=qa_interface,\n",
    "                   inputs=[gr.inputs.Textbox(label=\"Question\")],\n",
    "                   outputs=[gr.Textbox(label=\"JSON Output\")],\n",
    "                   title=\"Mortgage Rate Calculator\",\n",
    "                   description=\"This is a GenAI based quotes generator (using Google APIs)\",\n",
    "                   theme=gr.themes.Soft()\n",
    "                   )\n",
    "\n",
    "iface.launch(share=True)"
   ]
  },
  {
   "cell_type": "code",
   "execution_count": null,
   "metadata": {},
   "outputs": [],
   "source": []
  }
 ],
 "metadata": {
  "kernelspec": {
   "display_name": "Python 3",
   "language": "python",
   "name": "python3"
  },
  "language_info": {
   "codemirror_mode": {
    "name": "ipython",
    "version": 3
   },
   "file_extension": ".py",
   "mimetype": "text/x-python",
   "name": "python",
   "nbconvert_exporter": "python",
   "pygments_lexer": "ipython3",
   "version": "3.11.4"
  },
  "orig_nbformat": 4
 },
 "nbformat": 4,
 "nbformat_minor": 2
}
