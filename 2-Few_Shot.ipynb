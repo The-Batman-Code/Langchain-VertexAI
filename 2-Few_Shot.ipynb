{
 "cells": [
  {
   "cell_type": "markdown",
   "metadata": {},
   "source": [
    "# Import libraries and model"
   ]
  },
  {
   "cell_type": "code",
   "execution_count": 1,
   "metadata": {},
   "outputs": [],
   "source": [
    "Project_ID = \"Enter your Google Cloud project ID here\"\n",
    "Location = \"us-central1\"\n",
    "\n",
    "from google.cloud import aiplatform\n",
    "from vertexai.preview.language_models import TextGenerationModel, TextEmbeddingModel\n",
    "aiplatform.init(project=Project_ID, location=Location)\n",
    "model=TextGenerationModel.from_pretrained('text-bison')\n"
   ]
  },
  {
   "cell_type": "markdown",
   "metadata": {},
   "source": [
    "# Summarization"
   ]
  },
  {
   "cell_type": "code",
   "execution_count": 4,
   "metadata": {},
   "outputs": [
    {
     "name": "stdout",
     "output_type": "stream",
     "text": [
      "Response from Model : Batman is a superhero created by Bob Kane and Bill Finger, who debuted in Detective Comics #27 in 1939. The Hulk is a superhero created by Stan Lee and Jack Kirby, who debuted in The Incredible Hulk #1 in 1962. Wolverine is a superhero created by Len Wein and John Romita Sr., who debuted in The Incredible Hulk #180 in 1974.\n"
     ]
    }
   ],
   "source": [
    "def text_summarization(temperature=0.2):\n",
    "    response=model.predict('''Provide a summary of about two sentences for the following article:\n",
    "                           Batman is a superhero appearing in American comic books published by DC Comics. The character was created by artist Bob Kane and writer Bill Finger, and debuted in the 27th issue of the comic book Detective Comics on March 30, 1939.\n",
    "                           The Hulk is a superhero appearing in American comic books published by Marvel Comics. Created by writer Stan Lee and artist Jack Kirby, the character first appeared in the debut issue of The Incredible Hulk\n",
    "                           James \"Jimmy\" Howlett, also known as Logan or by his codename, The Wolverine, is a fictional character originating as the primary protagonist of 20th Century Fox's X-Men film series, and appearing in the Marvel Cinematic Universe media franchise produced by Marvel Studios.'''\n",
    "                           ,temperature=temperature,\n",
    "                           max_output_tokens=1024,\n",
    "                           top_k=40,\n",
    "                           top_p=0.8)\n",
    "    print(f\"Response from Model : {response.text}\")\n",
    "\n",
    "text_summarization()"
   ]
  },
  {
   "cell_type": "markdown",
   "metadata": {},
   "source": [
    "# Few shot examples"
   ]
  },
  {
   "cell_type": "markdown",
   "metadata": {},
   "source": [
    "## Classify news"
   ]
  },
  {
   "cell_type": "code",
   "execution_count": 5,
   "metadata": {},
   "outputs": [
    {
     "name": "stdout",
     "output_type": "stream",
     "text": [
      "The text is : business\n"
     ]
    }
   ],
   "source": [
    "def classify_news(temperature=0):\n",
    "    response=model.predict(\n",
    "        '''What is the topic for a given news headline?\n",
    "- business\n",
    "- entertainment\n",
    "- health\n",
    "- sports\n",
    "- technology\n",
    "\n",
    "Text: Pixel 7 Pro Expert Hands On Review, the Most Helpful Google Phones.\n",
    "The answer is: technology\n",
    "\n",
    "Text: Quit smoking?\n",
    "The answer is: health\n",
    "\n",
    "Text: Roger Federer reveals why he touched Rafael Nadals hand while they were crying\n",
    "The answer is: sports\n",
    "\n",
    "Text: Business relief from Arizona minimum-wage hike looking more remote\n",
    "The answer is: business\n",
    "\n",
    "Text: #TomCruise has arrived in Bari, Italy for #MissionImpossible.\n",
    "The answer is: entertainment\n",
    "\n",
    "Text: CNBC Reports Rising Digital Profit as Print Advertising Falls\n",
    "The answer is:''',\n",
    "      temperature=temperature,\n",
    "      max_output_tokens=5,\n",
    "      top_k=1,\n",
    "      top_p=0,\n",
    "    )\n",
    "\n",
    "    print(f\"The text is : {response.text}\")\n",
    "\n",
    "classify_news()"
   ]
  },
  {
   "cell_type": "markdown",
   "metadata": {},
   "source": [
    "## Find the sentiment"
   ]
  },
  {
   "cell_type": "code",
   "execution_count": 6,
   "metadata": {},
   "outputs": [
    {
     "name": "stdout",
     "output_type": "stream",
     "text": [
      "The sentiment is : negative\n"
     ]
    }
   ],
   "source": [
    "def sentiment(temperature=0):\n",
    "    response=model.predict(\n",
    "        '''Something surprised me about this movie - it was actually original. It was not \\\n",
    "the same old recycled crap that comes out of Hollywood every month. I saw this \\\n",
    "movie on video because I did not even know about it before I saw it at my \\\n",
    "local video store. If you see this movie available - rent it - you will not \\\n",
    "regret it.\n",
    "Classify the sentiment of the message: positive\n",
    "\n",
    "My family has watched Arthur Bach stumble and stammer since the movie first \\\n",
    "came out. We have most lines memorized. I watched it two weeks ago and still \\\n",
    "get tickled at the simple humor and view-at-life that Dudley Moore portrays. \\\n",
    "Liza Minelli did a wonderful job as the side kick - though I\\'m not her \\\n",
    "biggest fan. This movie makes me just enjoy watching movies. My favorite scene \\\n",
    "is when Arthur is visiting his fiancée\\'s house. His conversation with the \\\n",
    "butler and Susan\\'s father is side-spitting. The line from the butler, \\\n",
    "\"Would you care to wait in the Library\" followed by Arthur\\'s reply, \\\n",
    "\"Yes I would, the bathroom is out of the question\", is my NEWMAIL \\\n",
    "notification on my computer.\n",
    "Classify the sentiment of the message: positive\n",
    "\n",
    "This Charles outing is decent but this is a pretty low-key performance. Marlon \\\n",
    "Brando stands out. There\\'s a subplot with Mira Sorvino and Donald Sutherland \\\n",
    "that forgets to develop and it hurts the film a little. I\\'m still trying to \\\n",
    "figure out why Charlie want to change his name.\n",
    "Classify the sentiment of the message: negative\n",
    "\n",
    "Tweet: The Pixel 7 Pro, is too big to fit in my jeans pocket, so I bought \\\n",
    "new jeans.\n",
    "Classify the sentiment of the message: ''',\n",
    "      max_output_tokens=5,\n",
    "      temperature=temperature,\n",
    "      top_k=1,\n",
    "      top_p=0\n",
    "    )\n",
    "    print(f'The sentiment is : {response.text}')\n",
    "\n",
    "    \n",
    "sentiment()"
   ]
  },
  {
   "cell_type": "markdown",
   "metadata": {},
   "source": [
    "## Answer the question"
   ]
  },
  {
   "cell_type": "code",
   "execution_count": 9,
   "metadata": {},
   "outputs": [
    {
     "name": "stdout",
     "output_type": "stream",
     "text": [
      "The answer to the question is Reduced moist tropical vegetation cover in the basin.\n"
     ]
    }
   ],
   "source": [
    "def questions_answering():\n",
    "    answer=model.predict(\n",
    "        '''Background: There is evidence that there have been significant changes \\\n",
    "in Amazon rainforest vegetation over the last 21,000 years through the Last \\\n",
    "Glacial Maximum (LGM) and subsequent deglaciation. Analyses of sediment \\\n",
    "deposits from Amazon basin paleo lakes and from the Amazon Fan indicate that \\\n",
    "rainfall in the basin during the LGM was lower than for the present, and this \\\n",
    "was almost certainly associated with reduced moist tropical vegetation cover \\\n",
    "in the basin. There is debate, however, over how extensive this reduction \\\n",
    "was. Some scientists argue that the rainforest was reduced to small, isolated \\\n",
    "refugia separated by open forest and grassland; other scientists argue that \\\n",
    "the rainforest remained largely intact but extended less far to the north, \\\n",
    "south, and east than is seen today. This debate has proved difficult to \\\n",
    "resolve because the practical limitations of working in the rainforest mean \\\n",
    "that data sampling is biased away from the center of the Amazon basin, and \\\n",
    "both explanations are reasonably well supported by the available data.\n",
    "\n",
    "Q: What does LGM stands for?\n",
    "A: Last Glacial Maximum.\n",
    "\n",
    "Q: What did the analysis from the sediment deposits indicate?\n",
    "A: Rainfall in the basin during the LGM was lower than for the present.\n",
    "\n",
    "Q: What are some of scientists arguments?\n",
    "A: The rainforest was reduced to small, isolated refugia separated by open forest and grassland.\n",
    "\n",
    "Q: There have been major changes in Amazon rainforest vegetation over the last how many years?\n",
    "A: 21,000.\n",
    "\n",
    "Q: What caused changes in the Amazon rainforest vegetation?\n",
    "A: The Last Glacial Maximum (LGM) and subsequent deglaciation\n",
    "\n",
    "Q: What has been analyzed to compare Amazon rainfall in the past and present?\n",
    "A: Sediment deposits.\n",
    "\n",
    "Q: What has the lower rainfall in the Amazon during the LGM been attributed to?\n",
    "A:''',\n",
    "temperature=0,\n",
    "max_output_tokens=256,\n",
    "top_k=1,\n",
    "top_p=0\n",
    "    )\n",
    "    print(f'The answer to the question is {answer.text}')\n",
    "\n",
    "questions_answering()"
   ]
  },
  {
   "cell_type": "code",
   "execution_count": null,
   "metadata": {},
   "outputs": [],
   "source": []
  }
 ],
 "metadata": {
  "kernelspec": {
   "display_name": "Python 3",
   "language": "python",
   "name": "python3"
  },
  "language_info": {
   "codemirror_mode": {
    "name": "ipython",
    "version": 3
   },
   "file_extension": ".py",
   "mimetype": "text/x-python",
   "name": "python",
   "nbconvert_exporter": "python",
   "pygments_lexer": "ipython3",
   "version": "3.11.4"
  },
  "orig_nbformat": 4
 },
 "nbformat": 4,
 "nbformat_minor": 2
}
